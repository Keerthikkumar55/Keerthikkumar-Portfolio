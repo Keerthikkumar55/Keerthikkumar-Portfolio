{
  "nbformat": 4,
  "nbformat_minor": 0,
  "metadata": {
    "colab": {
      "provenance": [],
      "authorship_tag": "ABX9TyNBTAoLbHSDUY9Dg+DLVJfi",
      "include_colab_link": true
    },
    "kernelspec": {
      "name": "python3",
      "display_name": "Python 3"
    },
    "language_info": {
      "name": "python"
    }
  },
  "cells": [
    {
      "cell_type": "markdown",
      "metadata": {
        "id": "view-in-github",
        "colab_type": "text"
      },
      "source": [
        "<a href=\"https://colab.research.google.com/github/Keerthikkumar55/Keerthikkumar-Portfolio/blob/main/Untitled1.ipynb\" target=\"_parent\"><img src=\"https://colab.research.google.com/assets/colab-badge.svg\" alt=\"Open In Colab\"/></a>"
      ]
    },
    {
      "cell_type": "code",
      "execution_count": null,
      "metadata": {
        "colab": {
          "base_uri": "https://localhost:8080/"
        },
        "id": "Cqg3Og8g0GNw",
        "outputId": "8990f3cd-d615-452b-9b15-c71019ae542d"
      },
      "outputs": [
        {
          "output_type": "stream",
          "name": "stdout",
          "text": [
            "Enter the length of the rectangle:10\n",
            "Enter the width of the rectangle:5\n",
            " The area of rectangle is: 50\n"
          ]
        }
      ],
      "source": [
        "length = int (input (\"Enter the length of the rectangle:\")) #Getting length of a rectangle from user\n",
        "width = int (input (\"Enter the width of the rectangle:\")) #Getting width of a rectangle from user\n",
        "area = length*width #formula to find area\n",
        "print (\" The area of rectangle is:\", area) #printing the area of rectangle\n"
      ]
    },
    {
      "cell_type": "code",
      "source": [
        "input_string = \"P@#yn26at^&i5ve\"\n",
        "\n",
        "# Initialize counters for letters, digits, and special symbols\n",
        "letters = 0\n",
        "digits = 0\n",
        "special_symbols = 0\n",
        "\n",
        "for char in input_string:\n",
        "    # Check if the character is a letter\n",
        "    if char.isalpha():\n",
        "        letters += 1\n",
        "    # Check if the character is a digit\n",
        "    elif char.isdigit():\n",
        "        digits += 1\n",
        "    else:\n",
        "        special_symbols += 1\n",
        "# Print the counts of letters, digits, and special symbols\n",
        "print(f\"Number of letters: {letters}\")\n",
        "print(f\"Number of digits: {digits}\")\n",
        "print(f\"Number of special symbols: {special_symbols}\")\n"
      ],
      "metadata": {
        "colab": {
          "base_uri": "https://localhost:8080/"
        },
        "id": "OFy6l9tGRpRj",
        "outputId": "3ad3521d-3432-44b5-f8ee-e4a3a399890f"
      },
      "execution_count": null,
      "outputs": [
        {
          "output_type": "stream",
          "name": "stdout",
          "text": [
            "Number of letters: 8\n",
            "Number of digits: 3\n",
            "Number of special symbols: 4\n"
          ]
        }
      ]
    },
    {
      "cell_type": "code",
      "source": [
        "\n",
        "fahrenheit = int(input(\"Enter temperature in fahrenheit:\"))# Getting temperature value in Fahrenheit\n",
        "celsius = (fahrenheit - 32)*5/9 #formula to convert fahrenheit to Celsius\n",
        "print(\"Temperature in celsius :\", celsius)## printing the Temperature in celsius\n",
        "\n"
      ],
      "metadata": {
        "colab": {
          "base_uri": "https://localhost:8080/"
        },
        "id": "LB2obDroKqkf",
        "outputId": "fc8319f6-5ac2-4114-9bff-96ebd766d33f"
      },
      "execution_count": null,
      "outputs": [
        {
          "output_type": "stream",
          "name": "stdout",
          "text": [
            "Enter temperature in Fahrenheit:108\n",
            "Temperature in celsius : 42.22222222222222\n"
          ]
        }
      ]
    },
    {
      "cell_type": "code",
      "source": [
        "# Taking user input for two numbers\n",
        "num1 = int(input(\"Enter first number: \"))\n",
        "num2 = int(input(\"Enter second number: \"))\n",
        "\n",
        "# Performing bitwise AND operation using '&' operator\n",
        "result = num1 & num2\n",
        "\n",
        "# Printing the result\n",
        "print(\"Bitwise AND of\", num1, \"and\", num2, \"is:\", result)\n"
      ],
      "metadata": {
        "colab": {
          "base_uri": "https://localhost:8080/"
        },
        "id": "a7vVzuzIdLwM",
        "outputId": "68332835-e5db-406b-bba3-c75518bee5f3"
      },
      "execution_count": null,
      "outputs": [
        {
          "output_type": "stream",
          "name": "stdout",
          "text": [
            "Enter first number: 7\n",
            "Enter second number: 6\n",
            "Bitwise AND of 7 and 6 is: 6\n"
          ]
        }
      ]
    },
    {
      "cell_type": "code",
      "source": [
        "# Function to check if a number is divisible by both 2 and 3\n",
        "def check_div(num):\n",
        "    # Check if the number is divisible by both 2 and 3\n",
        "    if num % 2 == 0 and num % 3 == 0:\n",
        "        return True\n",
        "    else:\n",
        "        return False\n",
        "\n",
        "# Taking user input for the number\n",
        "number = int(input(\"Enter a number: \"))\n",
        "\n",
        "# Checking div and printing the result\n",
        "if check_divisibility(number):\n",
        "    print(number, \"is divisible by both 2 and 3.\")\n",
        "else:\n",
        "    print(number, \"is not divisible by both 2 and 3.\")\n"
      ],
      "metadata": {
        "colab": {
          "base_uri": "https://localhost:8080/"
        },
        "id": "B2TT_pObkWBu",
        "outputId": "abb2019f-a843-46a1-e8cb-d6dc60f611c2"
      },
      "execution_count": null,
      "outputs": [
        {
          "output_type": "stream",
          "name": "stdout",
          "text": [
            "Enter a number: 7\n",
            "7 is not divisible by both 2 and 3.\n"
          ]
        }
      ]
    },
    {
      "cell_type": "code",
      "source": [
        "import random\n",
        "\n",
        "def guess_number():\n",
        "    secret_number = random.randint(1, 100)\n",
        "\n",
        "    attempts = 0\n",
        "    guessed_number = None\n",
        "\n",
        "    print(\"Welcome to the Number Guessing Game!\")\n",
        "    print(\"Try to guess the secret number between 1 and 100.\")\n",
        "\n",
        "    while guessed_number != secret_number:\n",
        "        try:\n",
        "            guessed_number = int(input(\"Enter your guess: \"))\n",
        "            attempts += 1\n",
        "\n",
        "            if guessed_number < secret_number:\n",
        "                print(\"Too low! Try a higher number.\")\n",
        "            elif guessed_number > secret_number:\n",
        "                print(\"Too high! Try a lower number.\")\n",
        "            else:\n",
        "                print(f\"Congratulations! You've guessed the secret number {secret_number} in {attempts} attempts.\")\n",
        "        except ValueError:\n",
        "            print(\"Invalid input! Please enter a valid integer.\")\n",
        "\n",
        "if __name__ == \"__main__\":\n",
        "    guess_number()\n"
      ],
      "metadata": {
        "colab": {
          "base_uri": "https://localhost:8080/"
        },
        "id": "6BdxOaqs9sxk",
        "outputId": "f5bd1ba7-e41f-442f-9c8b-39ede881f884"
      },
      "execution_count": null,
      "outputs": [
        {
          "output_type": "stream",
          "name": "stdout",
          "text": [
            "Welcome to the Number Guessing Game!\n",
            "Try to guess the secret number between 1 and 100.\n",
            "Enter your guess: 60\n",
            "Too high! Try a lower number.\n",
            "Enter your guess: 67\n",
            "Too high! Try a lower number.\n",
            "Enter your guess: 50\n",
            "Too low! Try a higher number.\n",
            "Enter your guess: 40\n",
            "Too low! Try a higher number.\n",
            "Enter your guess: 30\n",
            "Too low! Try a higher number.\n",
            "Enter your guess: 43\n",
            "Too low! Try a higher number.\n",
            "Enter your guess: 46\n",
            "Too low! Try a higher number.\n",
            "Enter your guess: 47\n",
            "Too low! Try a higher number.\n",
            "Enter your guess: 48\n",
            "Too low! Try a higher number.\n",
            "Enter your guess: 49\n",
            "Too low! Try a higher number.\n",
            "Enter your guess: 50\n",
            "Too low! Try a higher number.\n",
            "Enter your guess: 54\n",
            "Too high! Try a lower number.\n",
            "Enter your guess: 53\n",
            "Too high! Try a lower number.\n",
            "Enter your guess: 51\n",
            "Congratulations! You've guessed the secret number 51 in 14 attempts.\n"
          ]
        }
      ]
    },
    {
      "cell_type": "code",
      "source": [
        "def add():\n",
        "  a=10\n",
        "  b=20\n",
        "  c=a+b\n",
        "  return c\n",
        "print(add())"
      ],
      "metadata": {
        "colab": {
          "base_uri": "https://localhost:8080/"
        },
        "id": "YciH093dPvc7",
        "outputId": "9c87e9f8-261c-4b5d-b39a-9a3205900de1"
      },
      "execution_count": null,
      "outputs": [
        {
          "output_type": "stream",
          "name": "stdout",
          "text": [
            "30\n"
          ]
        }
      ]
    },
    {
      "cell_type": "code",
      "source": [
        "def swap(a, b):\n",
        "    return b, a\n",
        "\n",
        "\n",
        "x = 5\n",
        "y = 10\n",
        "\n",
        "x, y = swap(x, y)\n",
        "print(\"x =\", x)\n",
        "print(\"y =\", y)\n"
      ],
      "metadata": {
        "colab": {
          "base_uri": "https://localhost:8080/"
        },
        "id": "4bVrHX8tfM8w",
        "outputId": "c5129fd4-73fa-4a2b-d30a-0686acb3e463"
      },
      "execution_count": null,
      "outputs": [
        {
          "output_type": "stream",
          "name": "stdout",
          "text": [
            "x = 5\n",
            "y = 10\n"
          ]
        }
      ]
    },
    {
      "cell_type": "code",
      "source": [
        "x=('a','b','d','c')\n",
        "print(max(x))"
      ],
      "metadata": {
        "colab": {
          "base_uri": "https://localhost:8080/"
        },
        "id": "uQ7qG3q9nPxr",
        "outputId": "4a137832-97ff-4fe3-a5fb-22e63857444a"
      },
      "execution_count": null,
      "outputs": [
        {
          "output_type": "stream",
          "name": "stdout",
          "text": [
            "d\n"
          ]
        }
      ]
    },
    {
      "cell_type": "code",
      "source": [
        "def div(num1, num2):\n",
        "    if num2 != 0:\n",
        "        return num1 / num2\n",
        "    else:\n",
        "        return \"Division by zero is not allowed\"\n",
        "\n",
        "# Take input from the user for two numbers\n",
        "num1 = float(input(\"Enter the first number: \"))\n",
        "num2 = float(input(\"Enter the second number: \"))\n",
        "\n",
        "result = div(num1, num2)\n",
        "\n",
        "print(\"Result of division:\", result)\n"
      ],
      "metadata": {
        "colab": {
          "base_uri": "https://localhost:8080/"
        },
        "id": "uo5Z3aIGqTpj",
        "outputId": "fd27fb50-3fbe-40a8-b01e-707fe6dd5ff8"
      },
      "execution_count": null,
      "outputs": [
        {
          "output_type": "stream",
          "name": "stdout",
          "text": [
            "Enter the first number: 6\n",
            "Enter the second number: 8\n",
            "Result of division: 0.75\n"
          ]
        }
      ]
    },
    {
      "cell_type": "code",
      "source": [
        "def square(num):\n",
        "    return num ** 2\n",
        "\n",
        "number = float(input(\"Enter a number: \"))\n",
        "result = square(number)\n",
        "\n",
        "# Display the result\n",
        "print(\"Square of the number:\", result)\n"
      ],
      "metadata": {
        "colab": {
          "base_uri": "https://localhost:8080/"
        },
        "id": "jNvywy4CsuUZ",
        "outputId": "49acd75a-88a1-450c-c958-dc7c1c23b84f"
      },
      "execution_count": null,
      "outputs": [
        {
          "output_type": "stream",
          "name": "stdout",
          "text": [
            "Enter a number: 12\n",
            "Square of the number: 144.0\n"
          ]
        }
      ]
    },
    {
      "cell_type": "code",
      "source": [
        "random_numbers=(10,15,17,2,19,100,23)\n",
        "\n",
        "maximum = max(random_numbers)\n",
        "minimum = min(random_numbers)\n",
        "\n",
        "# Display the maximum and minimum values\n",
        "print(\"Random numbers:\", random_numbers)\n",
        "print(\"Maximum:\", maximum)\n",
        "print(\"Minimum:\", minimum)"
      ],
      "metadata": {
        "colab": {
          "base_uri": "https://localhost:8080/"
        },
        "id": "vAU8uzPCtyus",
        "outputId": "4094850d-2ed8-4fad-d9b7-940fe3b284de"
      },
      "execution_count": null,
      "outputs": [
        {
          "output_type": "stream",
          "name": "stdout",
          "text": [
            "Random numbers: (10, 15, 17, 2, 19, 100, 23)\n",
            "Maximum: 100\n",
            "Minimum: 2\n"
          ]
        }
      ]
    },
    {
      "cell_type": "code",
      "source": [
        "name = input(\"Enter your name: \")\n",
        "\n",
        "# Convert the name to lowercase using lower() function\n",
        "lowercase_name = name.lower()\n",
        "\n",
        "# Display the name in lowercase\n",
        "print(\"Name in lowercase:\", lowercase_name)"
      ],
      "metadata": {
        "id": "QGQ8B3j5uZ13",
        "outputId": "ae76a447-77d4-47f3-988f-1e934830db6c",
        "colab": {
          "base_uri": "https://localhost:8080/"
        }
      },
      "execution_count": null,
      "outputs": [
        {
          "output_type": "stream",
          "name": "stdout",
          "text": [
            "Enter your name: KEERTHIK\n",
            "Name in lowercase: keerthik\n"
          ]
        }
      ]
    },
    {
      "cell_type": "code",
      "source": [
        "# Taking input from the user\n",
        "input_string = \"Welcome to Python Assignment\"\n",
        "\n",
        "\n",
        "# Converting the name to lowercase\n",
        "input_lower = input_string.lower()\n",
        "\n",
        "# Initializing variables to count vowels\n",
        "vowel_count = 0\n",
        "vowels = \"\"\n",
        "\n",
        "# Counting and collecting vowels in the name\n",
        "for char in input_lower:\n",
        "    if char in 'aeiou':\n",
        "        vowel_count += 1\n",
        "        vowels += char + \" \"\n",
        "\n",
        "print(\"Number of vowels in given input:\", vowel_count)\n",
        "print(\"Vowels in given input:\", vowels)\n"
      ],
      "metadata": {
        "colab": {
          "base_uri": "https://localhost:8080/"
        },
        "id": "qrxHgPr1w9zQ",
        "outputId": "6d3bf69e-8951-40fe-b2b0-8bc394664a1a"
      },
      "execution_count": null,
      "outputs": [
        {
          "output_type": "stream",
          "name": "stdout",
          "text": [
            "Number of vowels in given input: 8\n",
            "Vowels in given input: e o e o o a i e \n"
          ]
        }
      ]
    },
    {
      "cell_type": "code",
      "source": [
        "# Taking input from the user\n",
        "name = input(\"Enter your name: \")\n",
        "\n",
        "# Reversing the name using slicing [::-1]\n",
        "reversed_name = name[::-1]\n",
        "\n",
        "# Displaying the reversed name\n",
        "print(\"Reversed Name:\", reversed_name)\n"
      ],
      "metadata": {
        "colab": {
          "base_uri": "https://localhost:8080/"
        },
        "id": "wWRtjIHsxW_w",
        "outputId": "957bf925-8362-4506-dc20-142b1ab8747e"
      },
      "execution_count": null,
      "outputs": [
        {
          "output_type": "stream",
          "name": "stdout",
          "text": [
            "Enter your name: Keerthik\n",
            "Reversed Name: kihtreeK\n"
          ]
        }
      ]
    },
    {
      "cell_type": "code",
      "source": [
        "# Input a string from the user\n",
        "string = input(\"Enter a string: \")\n",
        "# Remove unwanted spaces and convert the string to lowercase\n",
        "cleaned_string = string.replace(\" \", \"\").lower()\n",
        "if cleaned_string == cleaned_string[::-1]:\n",
        "  print(\"The string is a palindrome.\")\n",
        "else:\n",
        "  print(\"The string is not a palindrome.\")"
      ],
      "metadata": {
        "colab": {
          "base_uri": "https://localhost:8080/"
        },
        "id": "xw47xPX61VPT",
        "outputId": "9b73b9b3-e626-4f2d-c395-c2d0af75dfe2"
      },
      "execution_count": null,
      "outputs": [
        {
          "output_type": "stream",
          "name": "stdout",
          "text": [
            "Enter a string: dad\n",
            "The string is a palindrome.\n"
          ]
        }
      ]
    },
    {
      "cell_type": "code",
      "source": [
        "# Take input from the user\n",
        "input_string = input(\"Enter a string: \")\n",
        "\n",
        "# Interchange cases using str.swapcase() method\n",
        "interchanged_string = input_string.swapcase()\n",
        "\n",
        "# Display the interchanged string\n",
        "print(\"String with cases interchanged:\",interchanged_string)\n"
      ],
      "metadata": {
        "colab": {
          "base_uri": "https://localhost:8080/"
        },
        "id": "nxhSFDuK2TJR",
        "outputId": "73f2e2fb-88f1-4003-fb8e-2390512e7f7f"
      },
      "execution_count": null,
      "outputs": [
        {
          "output_type": "stream",
          "name": "stdout",
          "text": [
            "Enter a string: kEErthIK\n",
            "String with cases interchanged: KeeRTHik\n"
          ]
        }
      ]
    },
    {
      "cell_type": "code",
      "source": [
        "input_string = \"String and String Function\"\n",
        "output_string = \"\"\n",
        "\n",
        "# Iterate through each character in the input string\n",
        "for char in input_string:\n",
        "    # Check if the character is not already in the output string\n",
        "    if char not in output_string:\n",
        "        # Append the character to the output string\n",
        "        output_string += char\n",
        "\n",
        "# Print the input and output strings without duplicate characters\n",
        "print(\"Input:\", input_string)\n",
        "print(\"Output:\", output_string)\n"
      ],
      "metadata": {
        "colab": {
          "base_uri": "https://localhost:8080/"
        },
        "id": "NZlAKFPkTdCs",
        "outputId": "931ee0c0-5131-4b30-8e98-64ee7a7e3779"
      },
      "execution_count": null,
      "outputs": [
        {
          "output_type": "stream",
          "name": "stdout",
          "text": [
            "Input: String and String Function\n",
            "Output: String adFuco\n"
          ]
        }
      ]
    },
    {
      "cell_type": "code",
      "source": [
        "input_string = \"String and String Function\"\n",
        "output_string = \"\"\n",
        "\n",
        "# Iterate through each character in the input string\n",
        "for char in input_string:\n",
        "    # Check if the character is not already in the output string\n",
        "    if char not in output_string:\n",
        "        # Append the character to the output string\n",
        "        output_string += char\n",
        "\n",
        "# Print the input and output strings without duplicate characters\n",
        "print(\"Input:\", input_string)\n",
        "print(\"Output:\", output_string)\n"
      ],
      "metadata": {
        "colab": {
          "base_uri": "https://localhost:8080/"
        },
        "id": "VOg6PZKZTkfy",
        "outputId": "bb1f6c09-19a9-473a-b11e-0fe556307c9f"
      },
      "execution_count": null,
      "outputs": [
        {
          "output_type": "stream",
          "name": "stdout",
          "text": [
            "Input: String and String Function\n",
            "Output: String adFuco\n"
          ]
        }
      ]
    },
    {
      "cell_type": "code",
      "source": [
        "input_string = \"Hell0 W0rld ! 123 * # welcome to pYtHoN\"\n",
        "\n",
        "# Initialize counters for uppercase, lowercase, numeric, and special characters\n",
        "upper_count = 0\n",
        "lower_count = 0\n",
        "num_count = 0\n",
        "special_count = 0\n",
        "\n",
        "for char in input_string:\n",
        "    # Check if the character is an uppercase letter\n",
        "    if char.isupper():\n",
        "        upper_count += 1\n",
        "    # Check if the character is a lowercase letter\n",
        "    elif char.islower():\n",
        "        lower_count += 1\n",
        "    # Check if the character is a digit\n",
        "    elif char.isdigit():\n",
        "        num_count += 1\n",
        "    # Check if the character is a special character\n",
        "    else:\n",
        "        special_count += 1\n",
        "\n",
        "# Print the counts of uppercase, lowercase, numeric, and special characters\n",
        "print(\"UpperCase:\", upper_count)\n",
        "print(\"LowerCase:\", lower_count)\n",
        "print(\"NumberCase:\", num_count)\n",
        "print(\"SpecialCase:\", special_count)\n"
      ],
      "metadata": {
        "colab": {
          "base_uri": "https://localhost:8080/"
        },
        "id": "Z92BMpd8T9Vi",
        "outputId": "d4c8985d-4bc2-41b8-d2b6-3aa852cd0001"
      },
      "execution_count": null,
      "outputs": [
        {
          "output_type": "stream",
          "name": "stdout",
          "text": [
            "UpperCase: 5\n",
            "LowerCase: 18\n",
            "NumberCase: 5\n",
            "SpecialCase: 11\n"
          ]
        }
      ]
    },
    {
      "cell_type": "code",
      "source": [
        "my_list = [10, 20, 30, 40, 50]\n",
        "result = sum(my_list)\n",
        "print(\"Sum of list items:\", result)\n"
      ],
      "metadata": {
        "colab": {
          "base_uri": "https://localhost:8080/"
        },
        "id": "UYwAqCQYUoCq",
        "outputId": "c559d02b-8be7-418f-a7f8-1b4974e5489c"
      },
      "execution_count": null,
      "outputs": [
        {
          "output_type": "stream",
          "name": "stdout",
          "text": [
            "Sum of list items: 150\n"
          ]
        }
      ]
    },
    {
      "cell_type": "code",
      "source": [
        "# Example list\n",
        "my_list = [10, 5, 20, 15, 30, 8]\n",
        "\n",
        "# Initialize variables to hold the largest and smallest numbers\n",
        "largest = 0\n",
        "smallest = 0\n",
        "\n",
        "for num in my_list:\n",
        "    if num > largest:\n",
        "        largest = num\n",
        "    elif num < smallest:\n",
        "        smallest = num\n",
        "\n",
        "# Print the largest and smallest numbers\n",
        "print(\"Largest number:\", largest)\n",
        "print(\"Smallest number:\", smallest)\n"
      ],
      "metadata": {
        "colab": {
          "base_uri": "https://localhost:8080/"
        },
        "id": "lnNFuSJgVi2v",
        "outputId": "e1a8d815-96dd-41cf-d4c1-957eadaebb02"
      },
      "execution_count": null,
      "outputs": [
        {
          "output_type": "stream",
          "name": "stdout",
          "text": [
            "Largest number: 30\n",
            "Smallest number: 0\n"
          ]
        }
      ]
    },
    {
      "cell_type": "code",
      "source": [
        "# Example list with duplicate values\n",
        "my_list = [1, 2, 3, 4, 2, 5, 6, 3, 7, 8, 9, 1]\n",
        "\n",
        "duplicates = []\n",
        "\n",
        "for i in range(len(my_list)):\n",
        "    for j in range(i + 1, len(my_list)):\n",
        "        if my_list[i] == my_list[j] and my_list[i] not in duplicates:\n",
        "            duplicates.append(my_list[i])\n",
        "\n",
        "# Display the duplicate values\n",
        "if duplicates:\n",
        "    print(\"Duplicate values in the list:\", duplicates)\n",
        "else:\n",
        "    print(\"No duplicate values found in the list.\")\n"
      ],
      "metadata": {
        "colab": {
          "base_uri": "https://localhost:8080/"
        },
        "id": "u2XY9gF1Wyan",
        "outputId": "52ac50eb-de3e-48f7-cd2f-c7a7ccb2dce4"
      },
      "execution_count": null,
      "outputs": [
        {
          "output_type": "stream",
          "name": "stdout",
          "text": [
            "Duplicate values in the list: [1, 2, 3]\n"
          ]
        }
      ]
    },
    {
      "cell_type": "code",
      "source": [
        "# Original list\n",
        "original_list = [1, 1, 2, 3, 4, 4, 5, 1]\n",
        "\n",
        "# Length of the first part of the list\n",
        "first_part_length = 3\n",
        "\n",
        "# Create a slice object for the first part\n",
        "first_part_slice = slice(3)\n",
        "\n",
        "# Split the list into two parts using the slice object\n",
        "first_part = original_list[first_part_slice]\n",
        "second_part = original_list[first_part_length:]\n",
        "\n",
        "# Display the split parts\n",
        "print(\"Original list:\", original_list)\n",
        "print(\"Length of the first part of the list:3\" )\n",
        "print(\"Splitted the said list into two parts:\",first_part, second_part)\n"
      ],
      "metadata": {
        "colab": {
          "base_uri": "https://localhost:8080/"
        },
        "id": "hkBMd-vmX1oX",
        "outputId": "2b02c439-8e80-4ade-cb50-1dfa1b3b2c7e"
      },
      "execution_count": null,
      "outputs": [
        {
          "output_type": "stream",
          "name": "stdout",
          "text": [
            "Original list: [1, 1, 2, 3, 4, 4, 5, 1]\n",
            "Length of the first part of the list:3\n",
            "Splitted the said list into two parts: [1, 1, 2] [3, 4, 4, 5, 1]\n"
          ]
        }
      ]
    },
    {
      "cell_type": "code",
      "source": [
        "# Original list\n",
        "original_list = ['red', 'green', 'white', 'black']\n",
        "\n",
        "# Reverse the items in the list using the reverse() method\n",
        "original_list.reverse()\n",
        "\n",
        "for item in original_list:\n",
        "    print(item)\n",
        "\n"
      ],
      "metadata": {
        "colab": {
          "base_uri": "https://localhost:8080/"
        },
        "id": "8Gqsec_fZzoG",
        "outputId": "c10c62a3-12c8-4c4d-e71a-32dcb366db9c"
      },
      "execution_count": null,
      "outputs": [
        {
          "output_type": "stream",
          "name": "stdout",
          "text": [
            "black\n",
            "white\n",
            "green\n",
            "red\n"
          ]
        }
      ]
    },
    {
      "cell_type": "code",
      "source": [
        "tuple1 = (2, 4, 5, 6, 2, 3, 4, 4, 7)\n",
        "\n",
        "# Count the number of times 4 appears in the tuple\n",
        "count_4 = tuple1.count(4)\n",
        "\n",
        "# Output the result\n",
        "print(\"Number of times 4 appears in the tuple:\", count_4)\n"
      ],
      "metadata": {
        "colab": {
          "base_uri": "https://localhost:8080/"
        },
        "id": "NBUkfkZ7droy",
        "outputId": "f1ca0e8c-77c4-4229-d423-9e167ecf9569"
      },
      "execution_count": null,
      "outputs": [
        {
          "output_type": "stream",
          "name": "stdout",
          "text": [
            "Number of times 4 appears in the tuple: 3\n"
          ]
        }
      ]
    },
    {
      "cell_type": "code",
      "source": [
        "# Input list\n",
        "list1 = [5, 10, 7, 4, 15, 3]\n",
        "\n",
        "# Convert the list to a tuple using tuple() constructor\n",
        "tuple1 = tuple(list1)\n",
        "\n",
        "# Output the tuple\n",
        "print(\"Converted tuple:\", tuple1)\n"
      ],
      "metadata": {
        "colab": {
          "base_uri": "https://localhost:8080/"
        },
        "id": "TFZbpuZaeVui",
        "outputId": "c7adff01-081a-4ecb-fec2-71562926bf0e"
      },
      "execution_count": null,
      "outputs": [
        {
          "output_type": "stream",
          "name": "stdout",
          "text": [
            "Converted tuple: (5, 10, 7, 4, 15, 3)\n"
          ]
        }
      ]
    },
    {
      "cell_type": "code",
      "source": [
        "tuples_list = [(1, 2), (3, 4), (5, 6)]\n",
        "\n",
        "# Initialize variable to hold the sum\n",
        "total_sum = 0\n",
        "\n",
        "# Iterate through each tuple in the list of tuples\n",
        "for tup in tuples_list:\n",
        "    # Iterate through each number in the tuple and add it to the sum\n",
        "    for num in tup:\n",
        "        total_sum += num\n",
        "\n",
        "# Output the sum of numbers in the tuple\n",
        "print(\"Sum of the numbers:\", total_sum)\n"
      ],
      "metadata": {
        "colab": {
          "base_uri": "https://localhost:8080/"
        },
        "id": "Tv3M9ib6f1L1",
        "outputId": "5502cc47-a387-4d4d-c22a-dd972b484ef8"
      },
      "execution_count": null,
      "outputs": [
        {
          "output_type": "stream",
          "name": "stdout",
          "text": [
            "Sum of the numbers: 21\n"
          ]
        }
      ]
    },
    {
      "cell_type": "code",
      "source": [
        "# Input tuple\n",
        "tuple_data = (0, 11, 1, 2, 2, 2, 33, 1)\n",
        "\n",
        "repeated_items = set()\n",
        "\n",
        "for item in tuple_data:\n",
        "    # Check if the item appears more than once in the tuple\n",
        "    if tuple_data.count(item) > 1:\n",
        "        repeated_items.add(item)  # Add the repeated item to the set\n",
        "\n",
        "# Output the repeated items\n",
        "print(\"Repeated items in the tuple:\", repeated_items)\n"
      ],
      "metadata": {
        "colab": {
          "base_uri": "https://localhost:8080/"
        },
        "id": "yaQ4rrYpg3Hu",
        "outputId": "f89ad8b6-c331-4267-f76a-3dcdbe7083a0"
      },
      "execution_count": null,
      "outputs": [
        {
          "output_type": "stream",
          "name": "stdout",
          "text": [
            "Repeated items in the tuple: {1, 2}\n"
          ]
        }
      ]
    },
    {
      "cell_type": "code",
      "source": [
        "set1 = {15, 25, 2, 10, 11, 55}\n",
        "\n",
        "max_element = max(set1) #Find and print the maximum element\n",
        "\n",
        "min_element = min(set1) #Find and print the minimum element\n",
        "\n",
        "\n",
        "print(\"Maximum element in the set:\", max_element)\n",
        "\n",
        "print(\"Minimum element in the set:\", min_element)\n"
      ],
      "metadata": {
        "colab": {
          "base_uri": "https://localhost:8080/"
        },
        "id": "Yn8DlefMiY1o",
        "outputId": "1312096c-f4ad-4590-b36e-dc446bacfdc3"
      },
      "execution_count": null,
      "outputs": [
        {
          "output_type": "stream",
          "name": "stdout",
          "text": [
            "Maximum element in the set: 55\n",
            "Minimum element in the set: 2\n"
          ]
        }
      ]
    },
    {
      "cell_type": "code",
      "source": [
        "set1 = {0, 1, 2, 3, 4}\n",
        "\n",
        "# Initialize an empty set to store squared elements\n",
        "squared_set = set()\n",
        "\n",
        "for x in set1:\n",
        "    squared_element = x ** 2  # Square the current element\n",
        "    squared_set.add(squared_element)  # Add the squared element to the set\n",
        "\n",
        "# Print the squared elements set\n",
        "print(\"Squared elements of the set:\", squared_set)\n"
      ],
      "metadata": {
        "colab": {
          "base_uri": "https://localhost:8080/"
        },
        "id": "RgrwjA_DjKOU",
        "outputId": "050d1a4a-1a35-45b8-9b71-fe4548ae9d95"
      },
      "execution_count": null,
      "outputs": [
        {
          "output_type": "stream",
          "name": "stdout",
          "text": [
            "Squared elements of the set: {0, 1, 4, 9, 16}\n"
          ]
        }
      ]
    },
    {
      "cell_type": "code",
      "source": [
        "# Input set\n",
        "set1 = {10, 45, 34, 20}\n",
        "\n",
        "# Values to check\n",
        "values_to_check = {99, 20}\n",
        "\n",
        "# Find the intersection of the sets\n",
        "common_values = set1.intersection(values_to_check)\n",
        "\n",
        "# Check if any common values are present\n",
        "if common_values:\n",
        "    print(\"Common values are present in the set:\", common_values)\n",
        "else:\n",
        "    print(\"No common values are present in the set\")\n"
      ],
      "metadata": {
        "colab": {
          "base_uri": "https://localhost:8080/"
        },
        "id": "3_JtTht1kJzY",
        "outputId": "8c268a97-1464-48fa-ff00-db9be14e178c"
      },
      "execution_count": null,
      "outputs": [
        {
          "output_type": "stream",
          "name": "stdout",
          "text": [
            "Common values are present in the set: {20}\n"
          ]
        }
      ]
    },
    {
      "cell_type": "code",
      "source": [
        "# Input set\n",
        "set1 = {11, 1, 22, 3, 4}\n",
        "\n",
        "# Print the original set\n",
        "print(\"Original set:\", set1)\n",
        "\n",
        "# Add an element to the set\n",
        "set1.add(99)\n",
        "print(\"After adding 99 to the set:\", set1)\n",
        "\n",
        "# Remove an element from the set\n",
        "set1.remove(22)\n",
        "print(\"After removing 22 from the set:\", set1)\n",
        "\n",
        "# Clear all elements from the set\n",
        "set1.clear()\n",
        "print(\"After clearing the set:\", set1)\n",
        "\n"
      ],
      "metadata": {
        "colab": {
          "base_uri": "https://localhost:8080/"
        },
        "id": "H4ITMaHmlJnP",
        "outputId": "127904c6-e280-45fd-e986-8270f167ca39"
      },
      "execution_count": null,
      "outputs": [
        {
          "output_type": "stream",
          "name": "stdout",
          "text": [
            "Original set: {1, 3, 4, 22, 11}\n",
            "After adding 99 to the set: {1, 3, 4, 99, 22, 11}\n",
            "After removing 22 from the set: {1, 3, 4, 99, 11}\n",
            "After clearing the set: set()\n"
          ]
        }
      ]
    }
  ]
}